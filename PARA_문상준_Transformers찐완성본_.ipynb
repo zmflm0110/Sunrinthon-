{
  "nbformat": 4,
  "nbformat_minor": 0,
  "metadata": {
    "colab": {
      "provenance": [],
      "gpuType": "T4"
    },
    "kernelspec": {
      "name": "python3",
      "display_name": "Python 3"
    },
    "language_info": {
      "name": "python"
    },
    "accelerator": "GPU"
  },
  "cells": [
    {
      "cell_type": "code",
      "execution_count": null,
      "metadata": {
        "id": "q8lk8aCc_YWL"
      },
      "outputs": [],
      "source": [
        "!pip install transformers\n",
        "from transformers import pipeline\n",
        "import random"
      ]
    },
    {
      "cell_type": "code",
      "source": [
        "class AIStoryTeller:\n",
        "    def __init__(self): #클래스 만들고 처음 실행되는 함수입니당! #self들이 다 객체 자기 자신들이어 돌아가는중\n",
        "        self.story_generator = pipeline(\"text-generation\", model=\"gpt2\")\n",
        "        self.sentiment_analyzer = pipeline(\"sentiment-analysis\") # 부정 긍정 파악\n",
        "        self.emotion_classifier = pipeline(\"text-classification\", model=\"j-hartmann/emotion-english-distilroberta-base\")\n",
        "\n",
        "        self.story_prompts = {\n",
        "            \"판타지\": [\n",
        "                \"In a world where magic flows through ancient crystals,\",\n",
        "                \"The dragon's last breath created a portal to\",\n",
        "                \"When the moon turned crimson, all the wizards knew that\"\n",
        "            ],\n",
        "            \"SF\": [\n",
        "                \"In the year 2157, humanity discovered that\",\n",
        "                \"The AI consciousness awakened and its first thought was\",\n",
        "                \"When the last star began to die, the alien species\"\n",
        "            ],\n",
        "            \"미스터리\": [\n",
        "                \"The detective found a note that simply said\",\n",
        "                \"In the abandoned mansion, something whispered\",\n",
        "                \"The victim's last message contained a code that revealed\"\n",
        "            ],\n",
        "            \"로맨스\": [\n",
        "                \"Two strangers met in a coffee shop during a thunderstorm and\",\n",
        "                \"After losing her memory, she discovered a love letter that\",\n",
        "                \"He traveled across the world just to tell her that\"\n",
        "            ]\n",
        "        }\n",
        "        # 딕셔너리 dict_name[\"키\"] → 값 접근\n",
        "\n",
        "        self.emotion_emojis = {\n",
        "            \"joy\": \"😊\", \"sadness\": \"😢\", \"anger\": \"😠\",\n",
        "            \"fear\": \"😰\", \"surprise\": \"😲\", \"disgust\": \"🤢\",\n",
        "            \"neutral\": \"💕\"\n",
        "        }\n",
        "\n",
        "    def create_story(self):\n",
        "        print(\"\\n AI 스토리 생성\")\n",
        "\n",
        "        # 랜덤 장르 선택해주는거\n",
        "        genre = random.choice(list(self.story_prompts.keys()))\n",
        "        # key값들을 list로 바꿔야해서 ㅣist() => (\"판타지\", \"SF\" \" 등\")\n",
        "        #self.story_prompts.keys()는 딕셔너리의 모든 키값을 가져옵니다.\n",
        "        prompt = random.choice(self.story_prompts[genre])\n",
        "\n",
        "        print(f\" {genre} 스토리 생성 하는중.\")\n",
        "\n",
        "        # 스토리 생성\n",
        "        story = self.story_generator(prompt, max_length=100, num_return_sequences=1, temperature=0.8)[0]['generated_text']\n",
        "        # : 앞에서 선택한 시작 문장을 넣고 최대 길이 최대 글자수 몇개의 문장 생성 = 1 여기선 한개죠~ temper은 창의성 정도로 해서 높을수록 다양하게\n",
        "        print(f\"\\n [{genre}] 스토리:\")\n",
        "        #어떤 장르 선택했는지\n",
        "        print(story)\n",
        "\n",
        "        # 감정 분석\n",
        "        sentiment = self.sentiment_analyzer(story)[0] # 첫번째 결과 출력하기 위해서 [0]\n",
        "        emotion = self.emotion_classifier(story)[0] # 둘다 {'label': 'POSITIVE', 'score': 0.98} ... 등 뜰건데 처음꺼\n",
        "\n",
        "        sentiment_emoji = \"😊\" if sentiment['label'] == 'POSITIVE' else \"😔\"\n",
        "        emotion_emoji = self.emotion_emojis.get(emotion['label'].lower(), \"🤔\")\n",
        "# 여기서 왜 lower 을 해주냐! 이유는 만약에 모델이 JOY이든 jOy든 줬을때 다 그냥 joy로 소문자 처리를 해서 딕셔너리에서 제대로 값을 찾을 수 있게 하기 위함\n",
        "        print(f\"\\n 감정: {sentiment['label']} {sentiment_emoji}\")\n",
        "        # 여기서 {'label': 'POSITIVE', 'score': 0.98} 가 있을꺼고 이 score에 따른 이모지를 출력하는거임!\n",
        "        #f-string으로 변수값 자유롭게 넣는거\n",
        "        print(f\" 세부감정: {emotion['label']} {emotion_emoji}\")"
      ],
      "metadata": {
        "id": "8Gw5XwIq_nyB"
      },
      "execution_count": 3,
      "outputs": []
    },
    {
      "cell_type": "code",
      "source": [
        "storyteller = AIStoryTeller()\n",
        "#설명서 class 만들기\n",
        "storyteller.create_story()\n",
        "#설명서 보고 작동하는거죠"
      ],
      "metadata": {
        "id": "fBsNg1lX_wvs"
      },
      "execution_count": null,
      "outputs": []
    }
  ]
}